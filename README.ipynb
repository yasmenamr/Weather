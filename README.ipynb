{
 "cells": [
  {
   "cell_type": "markdown",
   "metadata": {},
   "source": [
    "<h1><center><a>How is the weather like </a></center></h1>\n",
    "\n",
    "![weather](https://openweathermap.org/themes/openweathermap/assets/img/new-history-forecast-bulk.png)\n",
    "\n",
    "\n",
    "\n",
    "\n"
   ]
  },
  {
   "cell_type": "markdown",
   "metadata": {},
   "source": [
    "\n",
    "\n",
    "# Description:\n",
    "\n",
    "-This API accepts a city or a zip code or Coordinates (Lat,Lon) or IP Address.\n",
    "\n",
    "\n",
    "-The API returns the weather response in json format.\n",
    "\n"
   ]
  },
  {
   "cell_type": "markdown",
   "metadata": {},
   "source": [
    "# ways of passing a location name to the API:\n",
    "\n",
    "\n",
    "You should Enter The City Name,Country Name (Example: Cairo,Egypt).\n",
    "\n",
    "Aside from simply passing the name of a city, there are multiple other ways of passing a location to the API:\n",
    "\n",
    "|  Definition  | Input Example |\n",
    "| ------------- | ------------- |\n",
    "| City Name\t  | New York|\n",
    "| UK/Canada/US ZIP Code  | 99501  |\n",
    "| Coordinates (Latitude/Longitude)\t | 40.7831,-73.9712 |\n",
    "| IP Address\t | 153.65.8.20 |\n",
    "\n"
   ]
  },
  {
   "cell_type": "markdown",
   "metadata": {
    "slideshow": {
     "slide_type": "fragment"
    }
   },
   "source": [
    "# Our Code Output:\n",
    "\n",
    "-The API returns the weather response in json format\n",
    "\n",
    "Example:\n",
    "\n",
    "-Input: Cairo,Egypt\n",
    "\n",
    "-Output: Current tempreture in  Cairo,Egypt is 16 ℃\n"
   ]
  },
  {
   "cell_type": "markdown",
   "metadata": {},
   "source": [
    "# Links of  This Repostry:\n",
    "\n",
    "[Github](https://github.com/yasmenamr/Weather.git)\n",
    "\n",
    "\n",
    "\n"
   ]
  }
 ],
 "metadata": {
  "celltoolbar": "Slideshow",
  "kernelspec": {
   "display_name": "Python 3",
   "language": "python",
   "name": "python3"
  },
  "language_info": {
   "codemirror_mode": {
    "name": "ipython",
    "version": 3
   },
   "file_extension": ".py",
   "mimetype": "text/x-python",
   "name": "python",
   "nbconvert_exporter": "python",
   "pygments_lexer": "ipython3",
   "version": "3.7.4"
  }
 },
 "nbformat": 4,
 "nbformat_minor": 2
}
